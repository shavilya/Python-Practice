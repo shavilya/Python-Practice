{
 "cells": [
  {
   "cell_type": "markdown",
   "metadata": {},
   "source": [
    "# 🐍 Phase 1: Python Fundamentals (Beginner Level)\n",
    "\n",
    "### 🎯 Objective\n",
    "Master the core building blocks of Python: variables, loops, conditionals, functions, and basic logic — through short, focused challenges.\n"
   ]
  },
  {
   "cell_type": "markdown",
   "metadata": {},
   "source": [
    "### 1. Sum of Digits\n",
    "\n",
    "**Problem:**  \n",
    "Write a program that takes an integer as input and returns the **sum of its digits**.\n",
    "\n",
    "**Example:**  \n",
    "Input: `1234` → Output: `10`"
   ]
  },
  {
   "cell_type": "code",
   "execution_count": 2,
   "metadata": {},
   "outputs": [
    {
     "name": "stdout",
     "output_type": "stream",
     "text": [
      "Input: 1232435\n",
      "Sum of Digits: 20\n"
     ]
    }
   ],
   "source": [
    "\n",
    "digits_input = input() \n",
    "sum_of_digits = 0 \n",
    "for digit in digits_input : \n",
    "    sum_of_digits += int(digit)\n",
    "\n",
    "print(f\"Input: {digits_input}\")\n",
    "print(f\"Sum of Digits: {sum_of_digits}\")"
   ]
  },
  {
   "cell_type": "markdown",
   "metadata": {},
   "source": [
    "### 2. Palindrome Checker\n",
    "\n",
    "**Problem:**  \n",
    "Check if a given **string or number** is a palindrome (reads the same forwards and backwards).\n",
    "\n",
    "**Example:**  \n",
    "Input: `\"madam\"` → Output: `True`  \n",
    "Input: `121` → Output: `True`"
   ]
  },
  {
   "cell_type": "code",
   "execution_count": null,
   "metadata": {},
   "outputs": [
    {
     "name": "stdout",
     "output_type": "stream",
     "text": [
      "True , madam is Pallindrone\n"
     ]
    }
   ],
   "source": [
    "\n",
    "input_str_for_pallindrone = input().split(' ')\n",
    "reverse_str = list(input_str_for_pallindrone[::-1])\n",
    "\n",
    "if input_str_for_pallindrone == reverse_str : \n",
    "    print(f\"True , {input_str_for_pallindrone[0]} is Pallindrone\")\n",
    "else : \n",
    "    print(f\"False , {input_str_for_pallindrone[0]} is not Pallindrome\")\n",
    "\n"
   ]
  },
  {
   "cell_type": "markdown",
   "metadata": {},
   "source": [
    "\n",
    "### 3. Fibonacci Series Generator\n",
    "\n",
    "**Problem:**  \n",
    "Generate the first **N numbers** of the Fibonacci sequence.\n",
    "\n",
    "**Example:**  \n",
    "Input: `5` → Output: `[0, 1, 1, 2, 3]`"
   ]
  },
  {
   "cell_type": "code",
   "execution_count": 18,
   "metadata": {},
   "outputs": [
    {
     "name": "stdout",
     "output_type": "stream",
     "text": [
      "0\n",
      "1\n",
      "1\n",
      "2\n",
      "3\n",
      "5\n",
      "8\n",
      "13\n",
      "21\n",
      "34\n"
     ]
    }
   ],
   "source": [
    "\n",
    "n = int(input())\n",
    "\n",
    "a,b = 0,1\n",
    "print(f\"{a}\\n{b}\")\n",
    "\n",
    "for i in range(n-2):\n",
    "    c = a + b    \n",
    "    print(c)     \n",
    "    a = b        \n",
    "    b = c       \n",
    "\n",
    "\n",
    "\n",
    "\n"
   ]
  },
  {
   "cell_type": "markdown",
   "metadata": {},
   "source": [
    "\n",
    "### 4. Factorial Calculator\n",
    "\n",
    "**Problem:**  \n",
    "Calculate the factorial of a given number.  \n",
    "Implement both **iterative and recursive** versions.\n",
    "\n",
    "**Example:**  \n",
    "Input: `5` → Output: `120`"
   ]
  },
  {
   "cell_type": "code",
   "execution_count": 27,
   "metadata": {},
   "outputs": [
    {
     "name": "stdout",
     "output_type": "stream",
     "text": [
      "120\n"
     ]
    }
   ],
   "source": [
    "\n",
    "n = int(input()) \n",
    "\n",
    "fact = 1 \n",
    "\n",
    "for i in range(2,n+1) : \n",
    "    fact *= i \n",
    "\n",
    "print(fact)\n"
   ]
  },
  {
   "cell_type": "markdown",
   "metadata": {},
   "source": [
    "\n",
    "### 5. Prime Number Checker\n",
    "\n",
    "**Problem:**  \n",
    "Check if a given number is **prime**.  \n",
    "Bonus: Print all prime numbers in a given range.\n",
    "\n",
    "**Example:**  \n",
    "Input: `7` → Output: `True`  \n",
    "Input Range: `1 to 10` → Output: `[2, 3, 5, 7]`\n"
   ]
  },
  {
   "cell_type": "code",
   "execution_count": 31,
   "metadata": {},
   "outputs": [
    {
     "name": "stdout",
     "output_type": "stream",
     "text": [
      "Prime\n"
     ]
    }
   ],
   "source": [
    "\n",
    "n = int(input(\"Enter a number: \"))\n",
    "prime_list = []\n",
    "\n",
    "for i in range(2, n+1):  \n",
    "    is_prime = True\n",
    "    \n",
    "   \n",
    "    for j in range(2, i):\n",
    "        if i % j == 0:  \n",
    "            is_prime = False\n",
    "            break\n",
    "    \n",
    "    if is_prime:\n",
    "        prime_list.append(i)\n",
    "\n",
    "print(\"Prime numbers:\", prime_list)"
   ]
  },
  {
   "cell_type": "markdown",
   "metadata": {},
   "source": [
    "\n",
    "## ✅ Skills Practiced\n",
    "\n",
    "- Variables & data types  \n",
    "- Input/output  \n",
    "- `if`, `else`, `elif`  \n",
    "- `for` and `while` loops  \n",
    "- Function writing  \n",
    "- Basic recursion\n"
   ]
  }
 ],
 "metadata": {
  "kernelspec": {
   "display_name": "Data_Analytics",
   "language": "python",
   "name": "python3"
  },
  "language_info": {
   "codemirror_mode": {
    "name": "ipython",
    "version": 3
   },
   "file_extension": ".py",
   "mimetype": "text/x-python",
   "name": "python",
   "nbconvert_exporter": "python",
   "pygments_lexer": "ipython3",
   "version": "3.13.2"
  }
 },
 "nbformat": 4,
 "nbformat_minor": 2
}

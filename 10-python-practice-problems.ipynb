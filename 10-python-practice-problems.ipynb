{
 "cells": [
  {
   "cell_type": "markdown",
   "metadata": {},
   "source": [
    "Title: Smart String Analyzer\n",
    "\n",
    "Write a function analyze_text(text) that receives a string and returns a dictionary with the following: <br>\n",
    "\n",
    "Total number of characters (excluding spaces)<br>\n",
    "\n",
    "Number of vowels and consonants<br>\n",
    "\n",
    "Number of words <br>\n",
    "\n",
    "A list of words longer than average word length<br>\n",
    "\n",
    "Example : <br>\n",
    "\n",
    "analyze_text(\"Python is simple and powerful.\")<br>\n",
    "\n",
    "Output : <br>\n",
    "{\n",
    "    'total_characters': 26,<br>\n",
    "    'vowels': 9,<br>\n",
    "    'consonants': 17,<br>\n",
    "    'word_count': 5,<br>\n",
    "    'long_words': ['simple', 'powerful']<br>\n",
    "}\n",
    "\n"
   ]
  },
  {
   "cell_type": "code",
   "execution_count": 24,
   "metadata": {},
   "outputs": [
    {
     "data": {
      "text/plain": [
       "{'total_characters': (25,),\n",
       " 'vowels': (8,),\n",
       " 'consonants': (17,),\n",
       " 'word_count': (5,),\n",
       " 'long_words': ['simple', 'powerful']}"
      ]
     },
     "execution_count": 24,
     "metadata": {},
     "output_type": "execute_result"
    }
   ],
   "source": [
    "import re \n",
    "\n",
    "str_input = list(map(str,input().split()))\n",
    "pattern = r'\\b[a-zA-Z_][a-zA-Z0-9_]*\\b'\n",
    "\n",
    "matches = [re.findall(pattern,item) for item in str_input]\n",
    "flattened_matches = [word for sublist in matches for word in sublist]\n",
    "\n",
    "final_dict = dict()\n",
    "\n",
    "\n",
    "def analyze_text(str) :\n",
    "    char_length = 0  \n",
    "    vowels,consonants = 0,0\n",
    "    words = []\n",
    "    count_of_words = 0\n",
    "    for i in str : \n",
    "\n",
    "        for char in i.strip() : \n",
    "            if char not in ['a','e','i','o','u'] : \n",
    "                consonants += 1 \n",
    "            else : \n",
    "                vowels += 1 \n",
    "            char_length+=1 \n",
    "\n",
    "\n",
    "        words.append(i) \n",
    "        count_of_words+= 1 \n",
    "\n",
    "\n",
    "    # Long Words \n",
    "    sorted_list_of_words = sorted(str , reverse=True)\n",
    "    long_words = sorted_list_of_words[:2]\n",
    "\n",
    "\n",
    "\n",
    "\n",
    "    final_dict['total_characters'] = char_length, \n",
    "    final_dict['vowels'] = vowels , \n",
    "    final_dict['consonants'] = consonants , \n",
    "    final_dict['word_count'] = count_of_words , \n",
    "    final_dict['long_words'] = long_words\n",
    "\n",
    "\n",
    "  \n",
    "\n",
    "analyze_text(flattened_matches)\n",
    "final_dict\n",
    "#Python is simple and powerful."
   ]
  },
  {
   "cell_type": "markdown",
   "metadata": {},
   "source": [
    " Phase 3 – Challenge 3: Student Marks Analyzer <br>\n",
    "Goal: Practice working with files, functions, and data structures (lists & dictionaries).<br>\n",
    "\n",
    "📄 Problem Statement:<br>\n",
    "You’re given a file named marks.txt (you can simulate the file content in a multi-line string for now). Each line in the file contains:<br>\n",
    "\n",
    "\n",
    "Write a function analyze_marks() that reads this data and returns a dictionary like:<br>\n",
    "    {\n",
    "        'Amit': {\n",
    "            'total': 163,\n",
    "            'subjects': ['Math', 'English'],\n",
    "            'average': 81.5\n",
    "        },\n",
    "        'Sara': {\n",
    "            'total': 180,\n",
    "            'subjects': ['Math', 'English'],\n",
    "            'average': 90.0\n",
    "        }\n",
    "    }\n",
    "📌 Expected Concepts Covered:<br> \n",
    "    1.File reading (or simulating with .splitlines())\n",
    "    2.Parsing strings and extracting values\n",
    "    3.Dictionary updates (nested dicts)\n",
    "    4.Functions\n",
    "    5.Calculating average\n",
    "\n",
    "💡 Hints to Guide You (No Code):<br>\n",
    "\n",
    "    1.File or Input Simulation:<br>\n",
    "        i.For now, you can simulate the file content using a multi-line string and splitlines().<br>\n",
    "\n",
    "    2.Looping:<\n",
    "        i.Go line by line, split each line into name, subject, and marks. \n",
    "        \n",
    "    3.Storing Data:\n",
    "        i.Use a dictionary with names as keys.\n",
    "        ii.For each name, track a list of subjects and total marks.\n",
    "        \n",
    "    4.Calculating Average:\n",
    "        i.Once all data is collected, loop through the dictionary to calculate the average using total marks and number of subjects.<br>\n",
    "\n"
   ]
  },
  {
   "cell_type": "code",
   "execution_count": 63,
   "metadata": {},
   "outputs": [
    {
     "data": {
      "text/plain": [
       "{'name': ['Amit', 'Amit', 'Sara', 'Sara'],\n",
       " 'subject': ['Math', 'English', 'Math', 'English'],\n",
       " 'marks': ['78', '85', '92', '88']}"
      ]
     },
     "execution_count": 63,
     "metadata": {},
     "output_type": "execute_result"
    }
   ],
   "source": [
    "marks_dict = dict()\n",
    "name =[]\n",
    "subject = []\n",
    "mark = []\n",
    "\n",
    "with open('marks.txt' , 'r') as marks : \n",
    "    marks = marks.readlines()\n",
    "    for i in marks[1:]:\n",
    "        element = i.split('\\t')\n",
    "\n",
    "        for i in element : \n",
    "            name.append(i) \n",
    "            break\n",
    "         \n",
    "        for i in element[1:] : \n",
    "            subject.append(i)\n",
    "            break \n",
    "\n",
    "        for i in element[2:] : \n",
    "            mark.append(i.split('\\n')[0])\n",
    "            break \n",
    "        \n",
    "\n",
    "marks_dict['name'] = name \n",
    "marks_dict['subject'] = subject \n",
    "marks_dict['marks'] = mark \n",
    "\n",
    "\n",
    "marks_dict\n",
    "    \n"
   ]
  },
  {
   "cell_type": "code",
   "execution_count": 80,
   "metadata": {},
   "outputs": [
    {
     "data": {
      "text/plain": [
       "{'Amit': {'total': 163, 'subject': ['Math', 'English'], 'average': 81.5},\n",
       " 'Sara': {'total': 180, 'subject': ['Math', 'English'], 'average': 90.0}}"
      ]
     },
     "execution_count": 80,
     "metadata": {},
     "output_type": "execute_result"
    }
   ],
   "source": [
    "nested_dict = {}\n",
    "\n",
    "for i in range(len(marks_dict['name'])) : \n",
    "    name = marks_dict['name'][i]\n",
    "    subject = marks_dict['subject'][i]\n",
    "    marks = int(marks_dict['marks'][i])\n",
    "\n",
    "\n",
    "    if name not in nested_dict : \n",
    "\n",
    "        nested_dict[name] = {\n",
    "            'total' : 0 , \n",
    "            'subject' : [] , \n",
    "        }\n",
    "\n",
    "    # Update total marks \n",
    "    nested_dict[name]['total']+= marks\n",
    "\n",
    "    # Add subject to the list  \n",
    "    nested_dict[name]['subject'].append(subject)  \n",
    "\n",
    "\n",
    "# After the loop, calculate average for each student. \n",
    "\n",
    "for name in nested_dict : \n",
    "    total = nested_dict[name]['total'] \n",
    "    count = len(nested_dict[name]['subject'])\n",
    "    nested_dict[name]['average'] = total/count \n",
    "\n",
    "\n",
    "\n",
    "nested_dict\n",
    "\n"
   ]
  },
  {
   "cell_type": "code",
   "execution_count": 91,
   "metadata": {},
   "outputs": [
    {
     "name": "stdout",
     "output_type": "stream",
     "text": [
      "Python is great\n",
      "great is Python "
     ]
    }
   ],
   "source": [
    "# 10 Quick python practice problems \n",
    "\n",
    "# 1. Reverse the words  \n",
    "input_str = \"Python is great\" \n",
    "print(input_str)\n",
    "list_of_words = []\n",
    "for i in input_str.split(' ') :\n",
    "    list_of_words.append(i)\n",
    "\n",
    "\n",
    "reversed_words = list_of_words[::-1]\n",
    "print(reversed_words)\n",
    "    \n",
    "for i in reversed_words : \n",
    "    print(i,end = ' ')"
   ]
  },
  {
   "cell_type": "code",
   "execution_count": 93,
   "metadata": {},
   "outputs": [
    {
     "name": "stdout",
     "output_type": "stream",
     "text": [
      "[1, 2, 3, 2, 4, 1, 5]\n",
      "[1, 2, 3, 4, 5]\n"
     ]
    }
   ],
   "source": [
    "#2. Remove duplicates from a list \n",
    "\n",
    "inputed_list = [1,2,3,2,4,1,5]\n",
    "\n",
    "new_list = []\n",
    "for i in inputed_list :\n",
    "    if i not in new_list : \n",
    "        new_list.append(i)\n",
    "\n",
    "print(inputed_list)\n",
    "print(new_list) "
   ]
  },
  {
   "cell_type": "code",
   "execution_count": 107,
   "metadata": {},
   "outputs": [
    {
     "name": "stdout",
     "output_type": "stream",
     "text": [
      "Input: banana\n",
      "Output:{'b': 1, 'a': 3, 'n': 2}\n"
     ]
    }
   ],
   "source": [
    "# 3. Count Frequency of Characters. \n",
    "\n",
    "str_input = \"banana\"\n",
    "\n",
    "final_dict = {}\n",
    "\n",
    "for i in str_input : \n",
    "\n",
    "    if i not in final_dict : \n",
    "        final_dict[i] = 1\n",
    "\n",
    "    else : \n",
    "        final_dict[i] += 1 \n",
    "\n",
    "        \n",
    "\n",
    "print(f\"Input: {str_input}\\nOutput:{final_dict}\")\n"
   ]
  },
  {
   "cell_type": "code",
   "execution_count": 119,
   "metadata": {},
   "outputs": [
    {
     "name": "stdout",
     "output_type": "stream",
     "text": [
      "Input: abc123xyz546\n",
      "Output: \n",
      "123546"
     ]
    }
   ],
   "source": [
    "# 4. Extract Digits from String \n",
    "\n",
    "import re \n",
    "\n",
    "input_str = \"abc123xyz546\"\n",
    "print(f\"Input: {input_str}\")\n",
    "\n",
    "resulted_digits = re.findall(r\"\\d+\",input_str)\n",
    "\n",
    "print(\"Output: \")\n",
    "for num in resulted_digits :\n",
    "    print(num , end = '')\n"
   ]
  },
  {
   "cell_type": "code",
   "execution_count": 120,
   "metadata": {},
   "outputs": [
    {
     "name": "stdout",
     "output_type": "stream",
     "text": [
      "Input: I am learning python programming\n",
      "Output: python\n"
     ]
    }
   ],
   "source": [
    "# 5.Longest word in a sentence \n",
    "\n",
    "str_input = \"I am learning python programming\"\n",
    "print(f\"Input: {str_input}\")\n",
    "words = []\n",
    "for i in str_input.split(' ') :\n",
    "    words.append(i)\n",
    "\n",
    "\n",
    "sorted_words = sorted(words , reverse = True)\n",
    "\n",
    "print(f\"Output: {sorted_words[0]}\")"
   ]
  },
  {
   "cell_type": "code",
   "execution_count": 121,
   "metadata": {},
   "outputs": [
    {
     "name": "stdout",
     "output_type": "stream",
     "text": [
      "Input: 4321\n",
      "Output: 10\n"
     ]
    }
   ],
   "source": [
    "# 6. Sum of digits in an integer \n",
    "\n",
    "str_input = \"4321\" \n",
    "sum_of_digits = 0 \n",
    "\n",
    "for i in str_input : \n",
    "    sum_of_digits += int(i)\n",
    "\n",
    "print(f\"Input: {str_input}\\nOutput: {sum_of_digits}\")\n",
    "\n"
   ]
  },
  {
   "cell_type": "code",
   "execution_count": 125,
   "metadata": {},
   "outputs": [
    {
     "name": "stdout",
     "output_type": "stream",
     "text": [
      "Input: [1, 2, 3, 4, 5]\n",
      "Output: []\n"
     ]
    }
   ],
   "source": [
    "# 7. Rotate a list left by 2 \n",
    "\n",
    "input_list = [1,2,3,4,5]\n",
    "\n",
    "output_list = input_list[::2]\n",
    "resulted_list = [ ]\n",
    "for i in output_list : \n",
    "\n",
    "    if i not in input_list : \n",
    "        resulted_list.append(i) \n",
    "\n",
    "\n",
    "print(f\"Input: {input_list}\\nOutput: {resulted_list}\")"
   ]
  },
  {
   "cell_type": "code",
   "execution_count": null,
   "metadata": {},
   "outputs": [],
   "source": []
  },
  {
   "cell_type": "code",
   "execution_count": null,
   "metadata": {},
   "outputs": [],
   "source": []
  },
  {
   "cell_type": "code",
   "execution_count": null,
   "metadata": {},
   "outputs": [],
   "source": []
  },
  {
   "cell_type": "code",
   "execution_count": null,
   "metadata": {},
   "outputs": [],
   "source": []
  }
 ],
 "metadata": {
  "kernelspec": {
   "display_name": "Data_Analytics",
   "language": "python",
   "name": "python3"
  },
  "language_info": {
   "codemirror_mode": {
    "name": "ipython",
    "version": 3
   },
   "file_extension": ".py",
   "mimetype": "text/x-python",
   "name": "python",
   "nbconvert_exporter": "python",
   "pygments_lexer": "ipython3",
   "version": "3.13.2"
  }
 },
 "nbformat": 4,
 "nbformat_minor": 2
}

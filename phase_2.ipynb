{
 "cells": [
  {
   "cell_type": "markdown",
   "metadata": {},
   "source": [
    "## 🔹 Challenge 1: Unique Character Checker\n",
    "\n",
    "### Problem Statement  \n",
    "Write a function that checks whether all characters in a given string are unique (i.e., no duplicates).\n",
    "\n",
    "### Function Signature\n",
    "```python\n",
    "def is_unique(s: str) -> bool:\n",
    "    pass\n",
    "\n",
    "Examples\n",
    "is_unique(\"python\") ➞ True  \n",
    "is_unique(\"data\")   ➞ False  \n",
    "is_unique(\"abc def\") ➞ True  \n",
    "is_unique(\"a b c a\") ➞ False  \n",
    "\n",
    "Constraints\n",
    "\t•\tThe function should be case-sensitive.\n",
    "\t•\tIgnore spaces when checking for uniqueness.\n",
    "\n",
    "Why This Matters\n",
    "\n",
    "This challenge strengthens your understanding of:\n",
    "\t•\tSet operations\n",
    "\t•\tString manipulation\n",
    "\t•\tLogical conditions used in data validation tasks\n"
   ]
  },
  {
   "cell_type": "code",
   "execution_count": 25,
   "metadata": {},
   "outputs": [
    {
     "name": "stdout",
     "output_type": "stream",
     "text": [
      "True\n"
     ]
    }
   ],
   "source": [
    "\n",
    "input_str = input(\"\").lower()\n",
    "\n",
    "def is_unique(string) : \n",
    "\n",
    "    string = string.replace(' ','')\n",
    "\n",
    "    set_string = \"\".join(set(string))\n",
    "    if len(string) == len(set_string) : \n",
    "        print(\"True\")\n",
    "    else : \n",
    "        print(\"False\")\n",
    "\n",
    "        \n",
    "is_unique(input_str)\n"
   ]
  },
  {
   "cell_type": "markdown",
   "metadata": {},
   "source": [
    "## 🔹 Challenge 2: Anagram Detector\n",
    "\n",
    "### Problem Statement  \n",
    "Write a function that takes two strings and returns `True` if they are anagrams of each other, and `False` otherwise.  \n",
    "Two strings are anagrams if they contain the same characters in any order, **ignoring spaces and case**.\n",
    "\n",
    "### Function Signature\n",
    "```python\n",
    "def is_anagram(s1: str, s2: str) -> bool:\n",
    "    pass \n",
    "\n",
    "Examples \n",
    "is_anagram(\"listen\", \"silent\")                   ➞ True  \n",
    "is_anagram(\"Triangle\", \"Integral\")               ➞ True  \n",
    "is_anagram(\"Python\", \"typhon\")                   ➞ True  \n",
    "is_anagram(\"Data\", \"Dart\")                       ➞ False  \n",
    "is_anagram(\"School master\", \"The classroom\")     ➞ True   \n",
    "\n",
    "Constraint \n",
    "\t•\tIgnore spaces and case.\n",
    "\t•\tDo not use external libraries like collections.Counter.\n",
    "\n",
    "Why This Matters\n",
    "\n",
    "This challenge builds your ability to:\n",
    "\t•\tNormalize string input\n",
    "\t•\tApply logical comparisons\n",
    "\t•\tUnderstand character frequency — essential for working with unstructured text data"
   ]
  },
  {
   "cell_type": "code",
   "execution_count": 38,
   "metadata": {},
   "outputs": [
    {
     "data": {
      "text/plain": [
       "False"
      ]
     },
     "execution_count": 38,
     "metadata": {},
     "output_type": "execute_result"
    }
   ],
   "source": [
    "\n",
    "input_str_list  = list(map(str,input().split()))\n",
    "\n",
    "\n",
    "def is_anagram(str1,str2) -> bool: \n",
    "    \n",
    "    str1 = str1.replace(' ','').lower()\n",
    "    str2 = str2.replace(' ','').lower()\n",
    "    return sorted(str1) == sorted(str2)\n",
    "\n",
    "is_anagram(input_str_list[0],input_str_list[1])\n",
    "\n",
    "\n"
   ]
  },
  {
   "cell_type": "markdown",
   "metadata": {},
   "source": [
    "## 🔹 Challenge 3: Matrix Diagonal Sum\n",
    "\n",
    "### Problem Statement  \n",
    "Given a square matrix (a 2D list), write a function to calculate the **absolute difference** between the sum of its **primary diagonal** and the sum of its **secondary diagonal**.\n",
    "\n",
    "### Function Signature\n",
    "```python\n",
    "def diagonal_difference(matrix: list[list[int]]) -> int:\n",
    "    pass \n",
    "\n",
    "\"Example\" \n",
    "matrix = [\n",
    "    [1, 2, 3],\n",
    "    [4, 5, 6],\n",
    "    [9, 8, 9]\n",
    "]\n",
    "\n",
    "# Primary diagonal: 1 + 5 + 9 = 15\n",
    "# Secondary diagonal: 3 + 5 + 9 = 17\n",
    "# Absolute difference = |15 - 17| = 2\n",
    "\n",
    "diagonal_difference(matrix) ➞ 2 \n",
    "\n",
    "\n",
    "Constraints\n",
    "\t•\tThe input will always be a square matrix (NxN).\n",
    "\t•\tAll elements will be integers.\n",
    "\t•\tDo not use external libraries like NumPy — stick to basic Python list indexing.\n",
    "\n",
    "Why This Matters\n",
    "\n",
    "This challenge tests your understanding of:\n",
    "\t•\t2D list traversal\n",
    "\t•\tIndex-based operations\n",
    "\t•\tA common technique used in image processing, numerical analysis, and grid algorithms\n"
   ]
  },
  {
   "cell_type": "code",
   "execution_count": 49,
   "metadata": {},
   "outputs": [
    {
     "name": "stdout",
     "output_type": "stream",
     "text": [
      "Absolute Diagonal Difference: 2\n"
     ]
    }
   ],
   "source": [
    "\n",
    "def diagonal_difference(matrix: list[list[int]]) -> int:\n",
    "    n = len(matrix)\n",
    "    primary_sum = 0\n",
    "    secondary_sum = 0\n",
    "    \n",
    "    for i in range(n):\n",
    "        primary_sum += matrix[i][i]\n",
    "        secondary_sum += matrix[i][n - 1 - i]\n",
    "        \n",
    "    return abs(primary_sum - secondary_sum)\n",
    "\n",
    "n = int(input(\"Enter size of square matrix: \"))\n",
    "matrix = [list(map(int, input(f\"Row {i+1}: \").split())) for i in range(n)]\n",
    "\n",
    "print(\"Absolute Diagonal Difference:\", diagonal_difference(matrix))            "
   ]
  },
  {
   "cell_type": "markdown",
   "metadata": {},
   "source": [
    "## 🔹 Challenge 4: Word Frequency Counter\n",
    "\n",
    "### Problem Statement  \n",
    "Write a function that takes a string and returns a dictionary where the keys are **words** and the values are the number of times each word appears in the string.\n",
    "\n",
    "- Ignore case\n",
    "- Ignore punctuation (only count alphanumeric words)\n",
    "\n",
    "### Function Signature\n",
    "```python\n",
    "def word_frequency(text: str) -> dict:\n",
    "    pass\n",
    "\n",
    "Example \n",
    "text = \"Hello hello world! World of code. Hello again, code world.\"\n",
    "\n",
    "word_frequency(text)\n",
    "# Output:\n",
    "{\n",
    "    \"hello\": 3,\n",
    "    \"world\": 3,\n",
    "    \"of\": 1,\n",
    "    \"code\": 2,\n",
    "    \"again\": 1\n",
    "}\n",
    "Constraints\n",
    "\t•\tTreat Hello and hello as the same word.\n",
    "\t•\tIgnore punctuation like ., !, ,, ?, etc.\n",
    "\t•\tWords are alphanumeric sequences (you may use regular expressions if needed).\n",
    "\n",
    "Why This Matters\n",
    "\n",
    "This challenge builds your understanding of:\n",
    "\t•\tText normalization\n",
    "\t•\tDictionary usage for counting\n",
    "\t•\tNatural language preprocessing — foundational in NLP, search, and document analysis\n",
    "\n",
    "\n"
   ]
  },
  {
   "cell_type": "code",
   "execution_count": null,
   "metadata": {},
   "outputs": [
    {
     "name": "stdout",
     "output_type": "stream",
     "text": [
      "{'This': 1, 'is': 1, 'a': 1, 'string': 2, 'list': 2, 'of': 2, 'dictionary': 2}\n"
     ]
    }
   ],
   "source": [
    "expected_dict = {}\n",
    "words = []\n",
    "counter = 0 \n",
    "input_str = input().split().lower()\n",
    "\n",
    "for word in input_str : \n",
    "    if word not in expected_dict : \n",
    "        expected_dict[word] = 1 \n",
    "\n",
    "    else : \n",
    "        expected_dict[word] += 1 \n",
    "\n",
    "print(expected_dict)"
   ]
  },
  {
   "cell_type": "markdown",
   "metadata": {},
   "source": [
    "## 🔹 Challenge 5: Run-Length Encoder\n",
    "\n",
    "### Problem Statement  \n",
    "Write a function that takes a string and returns its **Run-Length Encoded (RLE)** version.\n",
    "\n",
    "Run-Length Encoding compresses a string by replacing consecutive repeating characters with the **character followed by the number of times it appears** consecutively.\n",
    "\n",
    "### Function Signature\n",
    "```python\n",
    "def run_length_encode(text: str) -> str:\n",
    "    pass\n",
    "\n",
    "Examples \n",
    "run_length_encode(\"aaabbcddd\") ➞ \"a3b2c1d3\"\n",
    "run_length_encode(\"a\")         ➞ \"a1\"\n",
    "run_length_encode(\"\")          ➞ \"\"\n",
    "run_length_encode(\"abc\")       ➞ \"a1b1c1\"\n",
    "\n",
    "Constraints\n",
    "\t•\tOnly encode consecutive repeating characters.\n",
    "\t•\tAssume the input string contains only lowercase alphabetic characters (no digits or special characters).\n",
    "\n",
    "Why This Matters\n",
    "\n",
    "This challenge develops your understanding of:\n",
    "\t•\tString traversal\n",
    "\t•\tPattern recognition\n",
    "\t•\tBasic compression algorithms often used in data transmission and encoding systems \n",
    "\n",
    "    "
   ]
  },
  {
   "cell_type": "code",
   "execution_count": 73,
   "metadata": {},
   "outputs": [
    {
     "data": {
      "text/plain": [
       "'a4b3c2d1'"
      ]
     },
     "execution_count": 73,
     "metadata": {},
     "output_type": "execute_result"
    }
   ],
   "source": [
    "input_str = \"aaaabbbccd\"\n",
    "def run_length_encode(input_str) : \n",
    "    if not input_str : \n",
    "        return \"\"\n",
    "    output_str = \"\" \n",
    "    prev_char = input_str[0]\n",
    "    count = 1 \n",
    "\n",
    "    for char in input_str[1:] : \n",
    "        if char == prev_char : \n",
    "            count += 1 \n",
    "        else : \n",
    "            output_str += prev_char + str(count)\n",
    "            prev_char = char \n",
    "            count = 1 \n",
    "\n",
    "    \n",
    "    output_str += prev_char + str(count)\n",
    "    return output_str \n",
    "\n",
    "run_length_encode(input_str)"
   ]
  },
  {
   "cell_type": "markdown",
   "metadata": {},
   "source": [
    "## 🔹 Challenge 6: Simple Calculator\n",
    "\n",
    "### Problem Statement  \n",
    "Write a simple calculator function that takes **two numbers** and a **mathematical operator** as input, and returns the result of the operation.\n",
    "\n",
    "The calculator should support the following operations:\n",
    "- Addition (+)\n",
    "- Subtraction (-)\n",
    "- Multiplication (*)\n",
    "- Division (/)\n",
    "\n",
    "### Function Signature\n",
    "```python\n",
    "def calculate(num1: float, num2: float, operator: str) -> float:\n",
    "    pass\n",
    "\n",
    "Example \n",
    "\n",
    "calculate(5, 3, \"+\")   ➞ 8.0  \n",
    "calculate(10, 2, \"-\")  ➞ 8.0  \n",
    "calculate(4, 2, \"*\")   ➞ 8.0  \n",
    "calculate(16, 2, \"/\")  ➞ 8.\n",
    "\n",
    "Edge Cases\n",
    "\t•\tReturn \"Error\" if the operator is not one of +, -, *, /.\n",
    "\t•\tReturn \"ZeroDivisionError\" if division by zero is attempted.\n",
    "\n",
    "Constraints\n",
    "\t•\tUse if-else or match-case (Python 3.10+) — avoid eval() for safety.\n",
    "\t•\tHandle float division properly (e.g., 10 / 3 ➞ 3.33).\n",
    "\n",
    "Why This Matters\n",
    "\n",
    "Building a calculator reinforces:\n",
    "\t•\tConditional logic\n",
    "\t•\tFunction arguments\n",
    "\t•\tError handling\n",
    "\t•\tFoundations for building interactive applications"
   ]
  },
  {
   "cell_type": "code",
   "execution_count": 76,
   "metadata": {},
   "outputs": [
    {
     "data": {
      "text/plain": [
       "32"
      ]
     },
     "execution_count": 76,
     "metadata": {},
     "output_type": "execute_result"
    }
   ],
   "source": [
    "\n",
    "num1,num2,op = input().split()\n",
    "def calculator(num1,num2,op) :\n",
    "    \n",
    "    if op == '+' : \n",
    "        return int(num1) + int(num2) \n",
    "    \n",
    "    elif op == '-' : \n",
    "        return int(num1) - int(num2) \n",
    "    \n",
    "    elif op == '*' : \n",
    "        return int(num1)*int(num2) \n",
    "    \n",
    "    elif op == '/' : \n",
    "        return int(num1)/int(num2) \n",
    "    \n",
    "    else : \n",
    "        print(\"Invalid inputs.\")\n",
    "\n",
    "\n",
    "calculator(num1,num2,op) "
   ]
  },
  {
   "cell_type": "markdown",
   "metadata": {},
   "source": [
    "## 🔹 Challenge 7: Roman Numeral Converter\n",
    "\n",
    "### Problem Statement  \n",
    "Write a function that converts a given **integer** (between 1 and 3999) into a **Roman numeral**.\n",
    "\n",
    "### Roman Numerals Reference:\n",
    "I    = 1<br> \n",
    "IV   = 4<br>\n",
    "V    = 5<br>\n",
    "IX   = 9<br>\n",
    "X    = 10<br>\n",
    "XL   = 40<br>\n",
    "L    = 50<br>\n",
    "XC   = 90<br>\n",
    "C    = 100<br>\n",
    "CD   = 400<br>\n",
    "D    = 500<br>\n",
    "CM   = 900<br>\n",
    "M    = 1000<br>\n",
    "\n",
    "### Function Signature\n",
    "```python\n",
    "def int_to_roman(num: int) -> str:\n",
    "    pass\n",
    "\n",
    "Examples \n",
    "int_to_roman(3)     ➞ \"III\"  \n",
    "int_to_roman(58)    ➞ \"LVIII\"  \n",
    "int_to_roman(1994)  ➞ \"MCMXCIV\"  \n",
    "int_to_roman(944)   ➞ \"CMXLIV\"\n",
    "\n",
    "Constraints\n",
    "\t•\tInput is always an integer in the range 1 ≤ num ≤ 3999\n",
    "\t•\tDo not use any external libraries\n",
    "\n",
    "Why This Matters\n",
    "\n",
    "This challenge strengthens:\n",
    "\t•\tGreedy algorithms\n",
    "\t•\tOrdered mapping and loop logic\n",
    "\t•\tUnderstanding of historical numeral systems"
   ]
  },
  {
   "cell_type": "code",
   "execution_count": 78,
   "metadata": {},
   "outputs": [
    {
     "data": {
      "text/plain": [
       "'XX'"
      ]
     },
     "execution_count": 78,
     "metadata": {},
     "output_type": "execute_result"
    }
   ],
   "source": [
    "number = int(input())\n",
    "def int_to_roman(num: int) :\n",
    "\n",
    "    val_to_roman = [\n",
    "        (1000, \"M\"), (900, \"CM\"),\n",
    "        (500, \"D\"),  (400, \"CD\"),\n",
    "        (100, \"C\"),  (90, \"XC\"),\n",
    "        (50, \"L\"),   (40, \"XL\"),\n",
    "        (10, \"X\"),   (9, \"IX\"),\n",
    "        (5, \"V\"),    (4, \"IV\"),\n",
    "        (1, \"I\")\n",
    "    ]\n",
    "\n",
    "    roman = \"\"\n",
    "    for value, symbol in val_to_roman:\n",
    "        while num >= value:\n",
    "            roman += symbol\n",
    "            num -= value\n",
    "\n",
    "    return roman\n",
    "\n",
    "int_to_roman(number)"
   ]
  },
  {
   "cell_type": "markdown",
   "metadata": {},
   "source": [
    "## 🔹 Challenge 9: CSV Data Filter & Summarizer\n",
    "\n",
    "### Problem Statement  \n",
    "Write a function that reads a CSV file and performs the following tasks:\n",
    "\n",
    "1. **Filters** rows based on a given column and value.\n",
    "2. **Summarizes** a numeric column by calculating the total sum of filtered rows.\n",
    "\n",
    "### Function Signature\n",
    "```python\n",
    "def filter_and_summarize_csv(filter_column: str, filter_value: str, sum_column: str) -> float:\n",
    "    pass\n",
    "\n",
    "Example \n",
    "Given a csv like:\n",
    "name,category,price\n",
    "apple,fruit,30\n",
    "banana,fruit,20\n",
    "carrot,vegetable,15\n",
    "broccoli,vegetable,25\n",
    "\n",
    "filter_and_summarize_csv(\"category\", \"fruit\", \"price\") ➞ 50.0\n",
    "\n",
    "Constraints\n",
    "\t•\tAssume the CSV has a header row.\n",
    "\t•\tColumns are all strings except for numeric values.\n",
    "\t•\tUse only built-in csv module (no pandas).\n",
    "\t•\tReturn 0.0 if no rows match.\n",
    "\n",
    "Why This Matters\n",
    "\n",
    "This is a foundational data analytics task — it builds your ability to:\n",
    "\t•\tRead and parse structured data\n",
    "\t•\tApply filters and summarize data programmatically\n",
    "\t•\tUnderstand how tools like pandas work under the hood"
   ]
  },
  {
   "cell_type": "code",
   "execution_count": 96,
   "metadata": {},
   "outputs": [
    {
     "name": "stdout",
     "output_type": "stream",
     "text": [
      "Total price: 50.0\n"
     ]
    }
   ],
   "source": [
    "import csv \n",
    "def filter_and_summarize_csv(file_path:str,filter_column:str,filter_value:str,sum_column:str) ->float: \n",
    "    total = 0.0 \n",
    "\n",
    "    with open(file_path,'r') as fruits: \n",
    "        reader = csv.reader(fruits)\n",
    "        header = next(reader) \n",
    "\n",
    "        filter_index = header.index(filter_column)\n",
    "        sum_index = header.index(sum_column)\n",
    "\n",
    "        for row in reader :\n",
    "            if row[filter_index].strip().lower() == filter_value.lower() : \n",
    "                total += float(row[sum_index].strip())\n",
    "\n",
    "        return total \n",
    "resulted_total = filter_and_summarize_csv(\"fruits.csv\",\"category\",\"fruit\",\"price\")\n",
    "\n",
    "print(f\"Total price: {resulted_total}\")"
   ]
  },
  {
   "cell_type": "code",
   "execution_count": null,
   "metadata": {},
   "outputs": [],
   "source": []
  }
 ],
 "metadata": {
  "kernelspec": {
   "display_name": "Data_Analytics",
   "language": "python",
   "name": "python3"
  },
  "language_info": {
   "codemirror_mode": {
    "name": "ipython",
    "version": 3
   },
   "file_extension": ".py",
   "mimetype": "text/x-python",
   "name": "python",
   "nbconvert_exporter": "python",
   "pygments_lexer": "ipython3",
   "version": "3.13.2"
  }
 },
 "nbformat": 4,
 "nbformat_minor": 2
}
